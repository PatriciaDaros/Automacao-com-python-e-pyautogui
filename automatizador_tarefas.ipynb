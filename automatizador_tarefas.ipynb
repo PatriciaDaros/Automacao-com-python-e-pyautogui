{
 "cells": [
  {
   "attachments": {},
   "cell_type": "markdown",
   "metadata": {},
   "source": [
    ",Arquivo para envio de e-mails com resultados de vendas automatizados"
   ]
  },
  {
   "cell_type": "code",
   "execution_count": 33,
   "metadata": {},
   "outputs": [],
   "source": [
    "# !pip install pyautogui\n",
    "# !pip install pyperclip\n",
    "# !pip install pandas\n",
    "#!pip install numpy\n",
    "#!pip install openpyxl"
   ]
  },
  {
   "cell_type": "code",
   "execution_count": 34,
   "metadata": {},
   "outputs": [],
   "source": [
    "import pyperclip\n",
    "import pyautogui as pa\n",
    "import time\n",
    "import pandas as pd\n",
    "import numpy\n",
    "import openpyxl"
   ]
  },
  {
   "attachments": {},
   "cell_type": "markdown",
   "metadata": {},
   "source": [
    "Abrir o navegador"
   ]
  },
  {
   "cell_type": "code",
   "execution_count": 35,
   "metadata": {},
   "outputs": [],
   "source": [
    "#Abrir o pesquisar\n",
    "pa.press(\"win\")\n",
    "time.sleep(1)\n",
    "#Abrir o navegador\n",
    "pa.write(\"chrome\")\n",
    "time.sleep(3)\n",
    "pa.press(\"enter\")\n",
    "time.sleep(3)\n",
    "\n",
    "\n",
    "#Abrir o perfil do usuário\n",
    "pa.click(x=1130, y=28)\n",
    "time.sleep(3)\n",
    "\n",
    "pa.click(x=528, y=412, clicks=2)\n",
    "time.sleep(3)\n",
    "\n",
    "pa.click(x=390, y=52, clicks = 2)\n",
    "time.sleep(7)\n",
    "\n",
    "link = \"https://drive.google.com/drive/folders/1x25GMLAGrQL68xvs0utIDbpO4uD83kdw\"\n",
    "pyperclip.copy(link)\n",
    "pa.hotkey(\"ctrl\", \"v\")\n",
    "pa.press(\"enter\")\n",
    "\n",
    "#Abrir a pasta com a plan.\n",
    "time.sleep(5)\n",
    "pa.click(x=371, y=305, clicks=2)\n",
    "\n",
    "# Selecionando a plan.\n",
    "time.sleep(3)\n",
    "pa.click(x=417, y=335, clicks=1)\n",
    "\n",
    "time.sleep(3)\n",
    "pa.click(x=1164, y=190)\n",
    "\n",
    "#Fazer o download em sí\n",
    "time.sleep(3)\n",
    "pa.click(x=1077, y=595)\n",
    "\n",
    "#Os calculos dos valores que serão enviados por email\n",
    "\n",
    "pla = pd.read_excel(r'C:\\Users\\patricia\\Downloads\\Vendas.xlsx')\n",
    "\n",
    "ValorTot = pla['Valor Final'].sum()\n",
    "Qtd = pla['Quantidade'].sum()\n",
    "\n",
    "#Envio do email\n",
    "pa.hotkey(\"ctrl\", \"t\")\n",
    "time.sleep(2)\n",
    "link2 = \"https://mail.google.com/mail/u/0/?tab=rm&ogbl#inbox?compose=new\"\n",
    "pyperclip.copy(link2)\n",
    "time.sleep(3)\n",
    "pa.hotkey(\"ctrl\", \"v\")\n",
    "time.sleep(1)\n",
    "pa.press(\"enter\")\n",
    "\n",
    "time.sleep(10)\n",
    "email = \"prdaros@gmail.com\"\n",
    "pyperclip.copy(email)\n",
    "pa.hotkey(\"ctrl\", \"v\")\n",
    "pa.press(\"tab\")\n",
    "time.sleep(3)\n",
    "pa.write(\"resumo das contas\")\n",
    "time.sleep(1)\n",
    "pa.press(\"tab\")\n",
    "time.sleep(5)\n",
    "\n",
    "corpo = f\"\"\"Prezados\n",
    "\n",
    "Seguem os resultados para análise\n",
    "\n",
    "Quantidade: {Qtd}\n",
    "Faturamento: R${ValorTot:,.2F}\"\"\"\n",
    "\n",
    "pyperclip.copy(corpo)\n",
    "pa.hotkey(\"ctrl\", \"v\")"
   ]
  },
  {
   "cell_type": "code",
   "execution_count": null,
   "metadata": {},
   "outputs": [],
   "source": [
    "# time.sleep(5)\n",
    "# pa.position()"
   ]
  }
 ],
 "metadata": {
  "kernelspec": {
   "display_name": "Python 3",
   "language": "python",
   "name": "python3"
  },
  "language_info": {
   "codemirror_mode": {
    "name": "ipython",
    "version": 3
   },
   "file_extension": ".py",
   "mimetype": "text/x-python",
   "name": "python",
   "nbconvert_exporter": "python",
   "pygments_lexer": "ipython3",
   "version": "3.10.9"
  },
  "orig_nbformat": 4,
  "vscode": {
   "interpreter": {
    "hash": "412254910c9bb1c4c00028900b8e7df906f77f0764be9dca233176e5d427dd5f"
   }
  }
 },
 "nbformat": 4,
 "nbformat_minor": 2
}
